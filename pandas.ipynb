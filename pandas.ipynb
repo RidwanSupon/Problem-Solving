{
  "nbformat": 4,
  "nbformat_minor": 0,
  "metadata": {
    "colab": {
      "provenance": [],
      "authorship_tag": "ABX9TyMXjrsqXyjUi9i6r14dA5vS",
      "include_colab_link": true
    },
    "kernelspec": {
      "name": "python3",
      "display_name": "Python 3"
    },
    "language_info": {
      "name": "python"
    }
  },
  "cells": [
    {
      "cell_type": "markdown",
      "metadata": {
        "id": "view-in-github",
        "colab_type": "text"
      },
      "source": [
        "<a href=\"https://colab.research.google.com/github/RidwanSupon/Problem-Solving/blob/main/pandas.ipynb\" target=\"_parent\"><img src=\"https://colab.research.google.com/assets/colab-badge.svg\" alt=\"Open In Colab\"/></a>"
      ]
    },
    {
      "cell_type": "code",
      "execution_count": null,
      "metadata": {
        "colab": {
          "base_uri": "https://localhost:8080/"
        },
        "id": "G_EpM8UBZgF5",
        "outputId": "75cb5fb2-0125-41f7-86b9-edf37e7fd4cd"
      },
      "outputs": [
        {
          "output_type": "stream",
          "name": "stdout",
          "text": [
            "   Unnamed: 0 Unnamed: 1 Unnamed: 2\n",
            "0          Id       Name       cgpa\n",
            "1          10         AA        3.7\n",
            "2          11         AB       3.55\n",
            "3          12         AC       3.21\n",
            "4          13         AD          4\n",
            "5          14         AE       3.25\n",
            "6          15         AF       3.84\n",
            "7          16         AG       3.75\n",
            "8          17         AH       3.21\n",
            "9          18         AI       3.56\n",
            "10         19         AJ       3.77\n",
            "11         20         AK        3.1\n"
          ]
        }
      ],
      "source": [
        "import pandas as pd\n",
        "existing_sheet = pd.read_csv(\"/content/CGPASHEET - Sheet1.csv\")\n",
        "print(existing_sheet)\n"
      ]
    },
    {
      "cell_type": "code",
      "source": [
        "import pandas\n",
        "mydataset = {\n",
        "  'Bike': [\"Suzuki\", \"Yamaha\", \"Tvs\"],\n",
        "  'Ratings': [4.5, 4.5, 4]\n",
        "}\n",
        "myvar = pandas.DataFrame(mydataset)\n",
        "\n",
        "print(myvar)"
      ],
      "metadata": {
        "colab": {
          "base_uri": "https://localhost:8080/"
        },
        "id": "-YsXsnaKfcmk",
        "outputId": "6a3a81d3-9fac-4840-ab5c-1aff26b92c9a"
      },
      "execution_count": null,
      "outputs": [
        {
          "output_type": "stream",
          "name": "stdout",
          "text": [
            "     Bike  Ratings\n",
            "0  Suzuki      4.5\n",
            "1  Yamaha      4.5\n",
            "2     Tvs      4.0\n"
          ]
        }
      ]
    },
    {
      "cell_type": "code",
      "source": [
        "import pandas as pd\n",
        "\n",
        "a = [1, 7, 2]\n",
        "\n",
        "myvar = pd.Series(a)\n",
        "\n",
        "print(myvar)"
      ],
      "metadata": {
        "colab": {
          "base_uri": "https://localhost:8080/"
        },
        "id": "2-wynizNiUQ_",
        "outputId": "5d0c6f4f-7cee-46c8-c2af-c4a0afa3cac5"
      },
      "execution_count": null,
      "outputs": [
        {
          "output_type": "stream",
          "name": "stdout",
          "text": [
            "0    1\n",
            "1    7\n",
            "2    2\n",
            "dtype: int64\n"
          ]
        }
      ]
    },
    {
      "cell_type": "code",
      "source": [
        "import pandas as pd\n",
        "1\n",
        "a = [1, 7, 2]\n",
        "\n",
        "myvar = pd.Series(a, index = [\"x\", \"y\", \"z\"])\n",
        "\n",
        "print(myvar)\n",
        "print(myvar[\"y\"])"
      ],
      "metadata": {
        "colab": {
          "base_uri": "https://localhost:8080/"
        },
        "id": "9D2QgO9WjbLz",
        "outputId": "0c4dd952-18bd-4565-90a5-5409aabef27f"
      },
      "execution_count": null,
      "outputs": [
        {
          "output_type": "stream",
          "name": "stdout",
          "text": [
            "x    1\n",
            "y    7\n",
            "z    2\n",
            "dtype: int64\n",
            "7\n"
          ]
        }
      ]
    },
    {
      "cell_type": "code",
      "source": [
        "print(existing_sheet.info)"
      ],
      "metadata": {
        "colab": {
          "base_uri": "https://localhost:8080/"
        },
        "id": "7s0Mjos0n0XA",
        "outputId": "29a89c1f-0134-4b70-e2a3-c3f64223bc26"
      },
      "execution_count": null,
      "outputs": [
        {
          "output_type": "stream",
          "name": "stdout",
          "text": [
            "<bound method DataFrame.info of    Unnamed: 0 Unnamed: 1 Unnamed: 2\n",
            "0          Id       Name       cgpa\n",
            "1          10         AA        3.7\n",
            "2          11         AB       3.55\n",
            "3          12         AC       3.21\n",
            "4          13         AD          4\n",
            "5          14         AE       3.25\n",
            "6          15         AF       3.84\n",
            "7          16         AG       3.75\n",
            "8          17         AH       3.21\n",
            "9          18         AI       3.56\n",
            "10         19         AJ       3.77\n",
            "11         20         AK        3.1>\n"
          ]
        }
      ]
    },
    {
      "cell_type": "code",
      "source": [
        "\n",
        "\n",
        "print(existing_sheet.to_string())"
      ],
      "metadata": {
        "colab": {
          "base_uri": "https://localhost:8080/"
        },
        "id": "Ga-BFIKf1JIB",
        "outputId": "d0c089e9-49be-44d9-b340-50ca48898a01"
      },
      "execution_count": null,
      "outputs": [
        {
          "output_type": "stream",
          "name": "stdout",
          "text": [
            "   Unnamed: 0 Unnamed: 1 Unnamed: 2\n",
            "0          Id       Name       cgpa\n",
            "1          10         AA        3.7\n",
            "2          11         AB       3.55\n",
            "3          12         AC       3.21\n",
            "4          13         AD          4\n",
            "5          14         AE       3.25\n",
            "6          15         AF       3.84\n",
            "7          16         AG       3.75\n",
            "8          17         AH       3.21\n",
            "9          18         AI       3.56\n",
            "10         19         AJ       3.77\n",
            "11         20         AK        3.1\n"
          ]
        }
      ]
    },
    {
      "cell_type": "code",
      "source": [
        "print(existing_sheet.duplicated())"
      ],
      "metadata": {
        "colab": {
          "base_uri": "https://localhost:8080/"
        },
        "id": "ggT7kMfg2CsY",
        "outputId": "cc4942ea-1297-4370-a687-7cfcf49b5bb1"
      },
      "execution_count": null,
      "outputs": [
        {
          "output_type": "stream",
          "name": "stdout",
          "text": [
            "0     False\n",
            "1     False\n",
            "2     False\n",
            "3     False\n",
            "4     False\n",
            "5     False\n",
            "6     False\n",
            "7     False\n",
            "8     False\n",
            "9     False\n",
            "10    False\n",
            "11    False\n",
            "dtype: bool\n"
          ]
        }
      ]
    },
    {
      "cell_type": "code",
      "source": [
        "print(existing_sheet.duplicated().sum())"
      ],
      "metadata": {
        "colab": {
          "base_uri": "https://localhost:8080/"
        },
        "id": "aKSP4DD22IyL",
        "outputId": "b8a1939b-3ec6-4e40-c792-163b32a388e3"
      },
      "execution_count": null,
      "outputs": [
        {
          "output_type": "stream",
          "name": "stdout",
          "text": [
            "0\n"
          ]
        }
      ]
    },
    {
      "cell_type": "code",
      "source": [
        "print(existing_sheet.duplicated().is_empty())"
      ],
      "metadata": {
        "colab": {
          "base_uri": "https://localhost:8080/",
          "height": 263
        },
        "id": "Xa2XZqVm2ocn",
        "outputId": "49bbe5c5-82be-4010-cced-07440b606476"
      },
      "execution_count": null,
      "outputs": [
        {
          "output_type": "error",
          "ename": "AttributeError",
          "evalue": "'Series' object has no attribute 'is_empty'",
          "traceback": [
            "\u001b[0;31m---------------------------------------------------------------------------\u001b[0m",
            "\u001b[0;31mAttributeError\u001b[0m                            Traceback (most recent call last)",
            "\u001b[0;32m<ipython-input-25-5a4ef480fce4>\u001b[0m in \u001b[0;36m<cell line: 1>\u001b[0;34m()\u001b[0m\n\u001b[0;32m----> 1\u001b[0;31m \u001b[0mprint\u001b[0m\u001b[0;34m(\u001b[0m\u001b[0mexisting_sheet\u001b[0m\u001b[0;34m.\u001b[0m\u001b[0mduplicated\u001b[0m\u001b[0;34m(\u001b[0m\u001b[0;34m)\u001b[0m\u001b[0;34m.\u001b[0m\u001b[0mis_empty\u001b[0m\u001b[0;34m(\u001b[0m\u001b[0;34m)\u001b[0m\u001b[0;34m)\u001b[0m\u001b[0;34m\u001b[0m\u001b[0;34m\u001b[0m\u001b[0m\n\u001b[0m",
            "\u001b[0;32m/usr/local/lib/python3.10/dist-packages/pandas/core/generic.py\u001b[0m in \u001b[0;36m__getattr__\u001b[0;34m(self, name)\u001b[0m\n\u001b[1;32m   6297\u001b[0m         ):\n\u001b[1;32m   6298\u001b[0m             \u001b[0;32mreturn\u001b[0m \u001b[0mself\u001b[0m\u001b[0;34m[\u001b[0m\u001b[0mname\u001b[0m\u001b[0;34m]\u001b[0m\u001b[0;34m\u001b[0m\u001b[0;34m\u001b[0m\u001b[0m\n\u001b[0;32m-> 6299\u001b[0;31m         \u001b[0;32mreturn\u001b[0m \u001b[0mobject\u001b[0m\u001b[0;34m.\u001b[0m\u001b[0m__getattribute__\u001b[0m\u001b[0;34m(\u001b[0m\u001b[0mself\u001b[0m\u001b[0;34m,\u001b[0m \u001b[0mname\u001b[0m\u001b[0;34m)\u001b[0m\u001b[0;34m\u001b[0m\u001b[0;34m\u001b[0m\u001b[0m\n\u001b[0m\u001b[1;32m   6300\u001b[0m \u001b[0;34m\u001b[0m\u001b[0m\n\u001b[1;32m   6301\u001b[0m     \u001b[0;34m@\u001b[0m\u001b[0mfinal\u001b[0m\u001b[0;34m\u001b[0m\u001b[0;34m\u001b[0m\u001b[0m\n",
            "\u001b[0;31mAttributeError\u001b[0m: 'Series' object has no attribute 'is_empty'"
          ]
        }
      ]
    }
  ]
}